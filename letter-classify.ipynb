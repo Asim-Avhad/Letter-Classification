{
 "cells": [
  {
   "cell_type": "markdown",
   "metadata": {},
   "source": [
    "**Import Libraries**"
   ]
  },
  {
   "cell_type": "code",
   "execution_count": 1,
   "metadata": {},
   "outputs": [],
   "source": [
    "import pandas as pd\n",
    "import numpy as np\n",
    "from sklearn.model_selection import train_test_split\n",
    "from sklearn.preprocessing import LabelEncoder,StandardScaler"
   ]
  },
  {
   "cell_type": "markdown",
   "metadata": {},
   "source": [
    "**Load the data**"
   ]
  },
  {
   "cell_type": "code",
   "execution_count": 2,
   "metadata": {},
   "outputs": [],
   "source": [
    "data_file = 'letter-recognition.data'\n",
    "columns = ['letter', 'x-box', 'y-box', 'width', 'height', 'onpix', 'x-bar', 'y-bar', 'x2bar', 'y2bar', 'xybar', 'x2ybr', 'xy2br', 'x-ege', 'xegvy', 'y-ege', 'yegvx']\n",
    "\n",
    "data = pd.read_csv(data_file, header=None, names=columns)"
   ]
  },
  {
   "cell_type": "markdown",
   "metadata": {},
   "source": [
    "**Prepare the data**"
   ]
  },
  {
   "cell_type": "code",
   "execution_count": 3,
   "metadata": {},
   "outputs": [],
   "source": [
    "label_encoder = LabelEncoder()\n",
    "data['letter'] = label_encoder.fit_transform(data['letter'])\n",
    "\n",
    "X = data.drop(columns=['letter']).values\n",
    "y = data['letter'].values\n",
    "\n",
    "scaler = StandardScaler()\n",
    "X = scaler.fit_transform(X)\n",
    "\n",
    "X_train, X_test, y_train, y_test = train_test_split(X, y, test_size=0.2, random_state=42)"
   ]
  },
  {
   "cell_type": "markdown",
   "metadata": {},
   "source": [
    "**One-Hot Encoding**"
   ]
  },
  {
   "cell_type": "code",
   "execution_count": 4,
   "metadata": {},
   "outputs": [],
   "source": [
    "def one_hot_encode(labels, num_classes):\n",
    "    one_hot = np.zeros((labels.size, num_classes))\n",
    "    one_hot[np.arange(labels.size), labels] = 1\n",
    "    return one_hot\n",
    "\n",
    "num_classes = len(np.unique(y))\n",
    "y_train = one_hot_encode(y_train, num_classes)\n",
    "y_test = one_hot_encode(y_test, num_classes)"
   ]
  },
  {
   "cell_type": "markdown",
   "metadata": {},
   "source": [
    "**Xavier Initialization for weights**"
   ]
  },
  {
   "cell_type": "code",
   "execution_count": 5,
   "metadata": {},
   "outputs": [],
   "source": [
    "def xavier_init(size):\n",
    "    return np.random.randn(*size) * np.sqrt(1 / size[0])"
   ]
  },
  {
   "cell_type": "markdown",
   "metadata": {},
   "source": [
    "**Neural Network with ReLu and Softmax**"
   ]
  },
  {
   "cell_type": "code",
   "execution_count": 6,
   "metadata": {},
   "outputs": [],
   "source": [
    "class NeuralNetwork:\n",
    "    def __init__(self, input_size, hidden_size, output_size, learning_rate=0.1):\n",
    "        self.learning_rate = learning_rate\n",
    "        self.W1 = xavier_init((input_size, hidden_size))\n",
    "        self.b1 = np.zeros((1, hidden_size))\n",
    "        self.W2 = xavier_init((hidden_size, output_size))\n",
    "        self.b2 = np.zeros((1, output_size))\n",
    "    \n",
    "    def relu(self, z):\n",
    "        return np.maximum(0, z)\n",
    "    \n",
    "    def relu_derivative(self, z):\n",
    "        return np.where(z > 0, 1, 0)\n",
    "\n",
    "    def softmax(self, z):\n",
    "        exp_z = np.exp(z - np.max(z))\n",
    "        return exp_z / exp_z.sum(axis=1, keepdims=True)\n",
    "\n",
    "    def forward(self, X):\n",
    "        self.Z1 = np.dot(X, self.W1) + self.b1\n",
    "        self.A1 = self.relu(self.Z1)\n",
    "        self.Z2 = np.dot(self.A1, self.W2) + self.b2\n",
    "        self.A2 = self.softmax(self.Z2)\n",
    "        return self.A2\n",
    "    \n",
    "    def compute_loss(self, y_true, y_pred):\n",
    "        n_samples = y_true.shape[0]\n",
    "        logp = - np.log(y_pred[range(n_samples), y_true.argmax(axis=1)])\n",
    "        loss = np.sum(logp) / n_samples\n",
    "        return loss\n",
    "\n",
    "    def backpropagate(self, X, y_true, y_pred):\n",
    "        n_samples = X.shape[0]\n",
    "        \n",
    "        dZ2 = y_pred - y_true\n",
    "        dW2 = np.dot(self.A1.T, dZ2) / n_samples\n",
    "        db2 = np.sum(dZ2, axis=0, keepdims=True) / n_samples\n",
    "\n",
    "        dA1 = np.dot(dZ2, self.W2.T)\n",
    "        dZ1 = dA1 * self.relu_derivative(self.A1)\n",
    "        dW1 = np.dot(X.T, dZ1) / n_samples\n",
    "        db1 = np.sum(dZ1, axis=0, keepdims=True) / n_samples\n",
    "        \n",
    "        self.W2 -= self.learning_rate * dW2\n",
    "        self.b2 -= self.learning_rate * db2\n",
    "        self.W1 -= self.learning_rate * dW1\n",
    "        self.b1 -= self.learning_rate * db1\n",
    "\n",
    "    def train(self, X, y, epochs=1000):\n",
    "        losses = []\n",
    "        for epoch in range(epochs):\n",
    "            y_pred = self.forward(X)\n",
    "            loss = self.compute_loss(y, y_pred)\n",
    "            losses.append(loss)\n",
    "            self.backpropagate(X, y, y_pred)\n",
    "\n",
    "            if epoch % 100 == 0:\n",
    "                print(f\"Epoch {epoch}, Loss: {loss:.4f}\")\n",
    "\n",
    "        return losses\n",
    "    \n",
    "    def predict(self, X):\n",
    "        y_pred = self.forward(X)\n",
    "        return np.argmax(y_pred, axis=1)"
   ]
  },
  {
   "cell_type": "markdown",
   "metadata": {},
   "source": [
    "**Train the Neural Network**"
   ]
  },
  {
   "cell_type": "code",
   "execution_count": 7,
   "metadata": {},
   "outputs": [
    {
     "name": "stdout",
     "output_type": "stream",
     "text": [
      "Epoch 0, Loss: 3.4632\n",
      "Epoch 100, Loss: 1.5233\n",
      "Epoch 200, Loss: 1.1866\n",
      "Epoch 300, Loss: 1.0220\n",
      "Epoch 400, Loss: 0.9174\n",
      "Epoch 500, Loss: 0.8423\n",
      "Epoch 600, Loss: 0.7844\n",
      "Epoch 700, Loss: 0.7376\n",
      "Epoch 800, Loss: 0.6985\n",
      "Epoch 900, Loss: 0.6650\n",
      "Epoch 1000, Loss: 0.6356\n",
      "Epoch 1100, Loss: 0.6096\n",
      "Epoch 1200, Loss: 0.5861\n",
      "Epoch 1300, Loss: 0.5646\n",
      "Epoch 1400, Loss: 0.5450\n",
      "Epoch 1500, Loss: 0.5270\n",
      "Epoch 1600, Loss: 0.5103\n",
      "Epoch 1700, Loss: 0.4947\n",
      "Epoch 1800, Loss: 0.4801\n",
      "Epoch 1900, Loss: 0.4664\n"
     ]
    }
   ],
   "source": [
    "input_size = X_train.shape[1]\n",
    "hidden_size = 128\n",
    "output_size = num_classes\n",
    "learning_rate = 0.1\n",
    "\n",
    "nn = NeuralNetwork(input_size, hidden_size, output_size, learning_rate)\n",
    "losses = nn.train(X_train, y_train, epochs=2000)"
   ]
  },
  {
   "cell_type": "markdown",
   "metadata": {},
   "source": [
    "**OUTPUT - Prediction and Accuracy calculation**"
   ]
  },
  {
   "cell_type": "code",
   "execution_count": 9,
   "metadata": {},
   "outputs": [
    {
     "name": "stdout",
     "output_type": "stream",
     "text": [
      "Predicted class (numeric): 17\n",
      "Predicted letter: R\n",
      "True class (numeric): 17\n",
      "True letter: R\n",
      "Accuracy on test set: 86.92%\n"
     ]
    }
   ],
   "source": [
    "sample_index = 69\n",
    "class_labels = label_encoder.classes_\n",
    "predicted_class = nn.predict(X_test[sample_index].reshape(1, -1))\n",
    "predicted_letter = class_labels[predicted_class[0]]\n",
    "\n",
    "print(f'Predicted class (numeric): {predicted_class[0]}')\n",
    "print(f'Predicted letter: {predicted_letter}')\n",
    "\n",
    "true_class = np.argmax(y_test[sample_index])\n",
    "true_letter = class_labels[true_class]\n",
    "\n",
    "print(f'True class (numeric): {true_class}')\n",
    "print(f'True letter: {true_letter}')\n",
    "\n",
    "def calculate_accuracy(X, y):\n",
    "    correct_predictions = 0\n",
    "    total_predictions = len(y)\n",
    "    \n",
    "    for i in range(total_predictions):\n",
    "        predicted_class = nn.predict(X[i].reshape(1, -1))\n",
    "        true_class = np.argmax(y[i])\n",
    "\n",
    "        if predicted_class[0] == true_class:\n",
    "            correct_predictions += 1\n",
    "\n",
    "    accuracy = (correct_predictions / total_predictions) * 100\n",
    "    return accuracy\n",
    "\n",
    "accuracy = calculate_accuracy(X_test, y_test)\n",
    "print(f'Accuracy on test set: {accuracy:.2f}%')"
   ]
  }
 ],
 "metadata": {
  "kernelspec": {
   "display_name": "Python 3",
   "language": "python",
   "name": "python3"
  },
  "language_info": {
   "codemirror_mode": {
    "name": "ipython",
    "version": 3
   },
   "file_extension": ".py",
   "mimetype": "text/x-python",
   "name": "python",
   "nbconvert_exporter": "python",
   "pygments_lexer": "ipython3",
   "version": "3.12.0"
  }
 },
 "nbformat": 4,
 "nbformat_minor": 2
}
