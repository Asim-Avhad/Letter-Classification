{
 "cells": [
  {
   "cell_type": "markdown",
   "metadata": {},
   "source": [
    "**Import Libraries**"
   ]
  },
  {
   "cell_type": "code",
   "execution_count": 1,
   "metadata": {},
   "outputs": [],
   "source": [
    "import pandas as pd\n",
    "import numpy as np\n",
    "from sklearn.model_selection import train_test_split\n",
    "from sklearn.preprocessing import LabelEncoder,StandardScaler"
   ]
  },
  {
   "cell_type": "markdown",
   "metadata": {},
   "source": [
    "**Load the data**"
   ]
  },
  {
   "cell_type": "code",
   "execution_count": 2,
   "metadata": {},
   "outputs": [],
   "source": [
    "data_file = 'letter-recognition.data'\n",
    "columns = ['letter', 'x-box', 'y-box', 'width', 'height', 'onpix', 'x-bar', 'y-bar', 'x2bar', 'y2bar', 'xybar', 'x2ybr', 'xy2br', 'x-ege', 'xegvy', 'y-ege', 'yegvx']\n",
    "\n",
    "data = pd.read_csv(data_file, header=None, names=columns)"
   ]
  },
  {
   "cell_type": "markdown",
   "metadata": {},
   "source": [
    "**Prepare the data**"
   ]
  },
  {
   "cell_type": "code",
   "execution_count": 3,
   "metadata": {},
   "outputs": [],
   "source": [
    "label_encoder = LabelEncoder()\n",
    "data['letter'] = label_encoder.fit_transform(data['letter'])\n",
    "\n",
    "X = data.drop(columns=['letter']).values\n",
    "y = data['letter'].values\n",
    "\n",
    "scaler = StandardScaler()\n",
    "X = scaler.fit_transform(X)\n",
    "\n",
    "X_train, X_test, y_train, y_test = train_test_split(X, y, test_size=0.2, random_state=42)"
   ]
  },
  {
   "cell_type": "markdown",
   "metadata": {},
   "source": [
    "**One-Hot Encoding**"
   ]
  },
  {
   "cell_type": "code",
   "execution_count": 4,
   "metadata": {},
   "outputs": [],
   "source": [
    "def one_hot_encode(labels, num_classes):\n",
    "    one_hot = np.zeros((labels.size, num_classes))\n",
    "    one_hot[np.arange(labels.size), labels] = 1\n",
    "    return one_hot\n",
    "\n",
    "num_classes = len(np.unique(y))\n",
    "y_train = one_hot_encode(y_train, num_classes)\n",
    "y_test = one_hot_encode(y_test, num_classes)"
   ]
  },
  {
   "cell_type": "markdown",
   "metadata": {},
   "source": [
    "**Xavier Initialization for weights**"
   ]
  },
  {
   "cell_type": "code",
   "execution_count": 5,
   "metadata": {},
   "outputs": [],
   "source": [
    "def xavier_init(size):\n",
    "    return np.random.randn(*size) * np.sqrt(1 / size[0])"
   ]
  },
  {
   "cell_type": "markdown",
   "metadata": {},
   "source": [
    "**Neural Network with ReLu and Softmax**"
   ]
  },
  {
   "cell_type": "code",
   "execution_count": 6,
   "metadata": {},
   "outputs": [],
   "source": [
    "class NeuralNetwork:\n",
    "    def __init__(self, input_size, hidden_size, output_size, learning_rate=0.1):\n",
    "        self.learning_rate = learning_rate\n",
    "        self.weights_input_hidden = xavier_init((input_size, hidden_size))\n",
    "        self.bias_hidden = np.zeros((1, hidden_size))\n",
    "        self.weights_hidden_output = xavier_init((hidden_size, output_size))\n",
    "        self.bias_output = np.zeros((1, output_size))\n",
    "    \n",
    "    def relu(self, z):\n",
    "        return np.maximum(0, z)\n",
    "    \n",
    "    def relu_derivative(self, z):\n",
    "        return np.where(z > 0, 1, 0)\n",
    "\n",
    "    def softmax(self, z):\n",
    "        exp_z = np.exp(z - np.max(z))\n",
    "        return exp_z / exp_z.sum(axis=1, keepdims=True)\n",
    "\n",
    "    def forward(self, X):\n",
    "        self.z_hidden = np.dot(X, self.weights_input_hidden) + self.bias_hidden\n",
    "        self.a_hidden = self.relu(self.z_hidden)\n",
    "        self.z_output = np.dot(self.a_hidden, self.weights_hidden_output) + self.bias_output\n",
    "        self.a_output = self.softmax(self.z_output)\n",
    "        return self.a_output\n",
    "    \n",
    "    def compute_loss(self, y_true, y_pred):\n",
    "        n_samples = y_true.shape[0]\n",
    "        logp = - np.log(y_pred[range(n_samples), y_true.argmax(axis=1)])\n",
    "        loss = np.sum(logp) / n_samples\n",
    "        return loss\n",
    "\n",
    "    def backpropagate(self, X, y_true, y_pred):\n",
    "        n_samples = X.shape[0]\n",
    "        \n",
    "        d_z_output = y_pred - y_true\n",
    "        d_weights_hidden_output = np.dot(self.a_hidden.T, d_z_output) / n_samples\n",
    "        d_bias_output = np.sum(d_z_output, axis=0, keepdims=True) / n_samples\n",
    "\n",
    "        d_a_hidden = np.dot(d_z_output, self.weights_hidden_output.T)\n",
    "        d_z_hidden = d_a_hidden * self.relu_derivative(self.a_hidden)\n",
    "        d_weights_input_hidden = np.dot(X.T, d_z_hidden) / n_samples\n",
    "        d_bias_hidden = np.sum(d_z_hidden, axis=0, keepdims=True) / n_samples\n",
    "        \n",
    "        self.weights_hidden_output -= self.learning_rate * d_weights_hidden_output\n",
    "        self.bias_output -= self.learning_rate * d_bias_output\n",
    "        self.weights_input_hidden -= self.learning_rate * d_weights_input_hidden\n",
    "        self.bias_hidden -= self.learning_rate * d_bias_hidden\n",
    "\n",
    "    def train(self, X, y, epochs=1000):\n",
    "        losses = []\n",
    "        for epoch in range(epochs):\n",
    "            y_pred = self.forward(X)\n",
    "            loss = self.compute_loss(y, y_pred)\n",
    "            losses.append(loss)\n",
    "            self.backpropagate(X, y, y_pred)\n",
    "\n",
    "            if epoch % 100 == 0:\n",
    "                print(f\"Epoch {epoch}, Loss: {loss:.4f}\")\n",
    "\n",
    "        return losses\n",
    "    \n",
    "    def predict(self, X):\n",
    "        y_pred = self.forward(X)\n",
    "        return np.argmax(y_pred, axis=1)"
   ]
  },
  {
   "cell_type": "markdown",
   "metadata": {},
   "source": [
    "**Train the Neural Network**"
   ]
  },
  {
   "cell_type": "code",
   "execution_count": 7,
   "metadata": {},
   "outputs": [
    {
     "name": "stdout",
     "output_type": "stream",
     "text": [
      "Epoch 0, Loss: 3.6611\n",
      "Epoch 100, Loss: 1.5112\n",
      "Epoch 200, Loss: 1.1721\n",
      "Epoch 300, Loss: 1.0107\n",
      "Epoch 400, Loss: 0.9088\n",
      "Epoch 500, Loss: 0.8357\n",
      "Epoch 600, Loss: 0.7792\n",
      "Epoch 700, Loss: 0.7333\n",
      "Epoch 800, Loss: 0.6945\n",
      "Epoch 900, Loss: 0.6610\n",
      "Epoch 1000, Loss: 0.6316\n",
      "Epoch 1100, Loss: 0.6055\n",
      "Epoch 1200, Loss: 0.5821\n",
      "Epoch 1300, Loss: 0.5608\n",
      "Epoch 1400, Loss: 0.5414\n",
      "Epoch 1500, Loss: 0.5237\n",
      "Epoch 1600, Loss: 0.5073\n",
      "Epoch 1700, Loss: 0.4921\n",
      "Epoch 1800, Loss: 0.4780\n",
      "Epoch 1900, Loss: 0.4647\n"
     ]
    }
   ],
   "source": [
    "input_size = X_train.shape[1]\n",
    "hidden_size = 128\n",
    "output_size = num_classes\n",
    "learning_rate = 0.1\n",
    "\n",
    "nn = NeuralNetwork(input_size, hidden_size, output_size, learning_rate)\n",
    "losses = nn.train(X_train, y_train, epochs=2000)"
   ]
  },
  {
   "cell_type": "markdown",
   "metadata": {},
   "source": [
    "**OUTPUT - Prediction and Accuracy calculation**"
   ]
  },
  {
   "cell_type": "code",
   "execution_count": 9,
   "metadata": {},
   "outputs": [
    {
     "name": "stdout",
     "output_type": "stream",
     "text": [
      "Predicted class (numeric): 17\n",
      "Predicted letter: R\n",
      "True class (numeric): 17\n",
      "True letter: R\n",
      "Accuracy on test set: 86.90%\n"
     ]
    }
   ],
   "source": [
    "sample_index = 69\n",
    "class_labels = label_encoder.classes_\n",
    "predicted_class = nn.predict(X_test[sample_index].reshape(1, -1))\n",
    "predicted_letter = class_labels[predicted_class[0]]\n",
    "\n",
    "print(f'Predicted class (numeric): {predicted_class[0]}')\n",
    "print(f'Predicted letter: {predicted_letter}')\n",
    "\n",
    "true_class = np.argmax(y_test[sample_index])\n",
    "true_letter = class_labels[true_class]\n",
    "\n",
    "print(f'True class (numeric): {true_class}')\n",
    "print(f'True letter: {true_letter}')\n",
    "\n",
    "def calculate_accuracy(X, y):\n",
    "    correct_predictions = 0\n",
    "    total_predictions = len(y)\n",
    "    \n",
    "    for i in range(total_predictions):\n",
    "        predicted_class = nn.predict(X[i].reshape(1, -1))\n",
    "        true_class = np.argmax(y[i])\n",
    "\n",
    "        if predicted_class[0] == true_class:\n",
    "            correct_predictions += 1\n",
    "\n",
    "    accuracy = (correct_predictions / total_predictions) * 100\n",
    "    return accuracy\n",
    "\n",
    "accuracy = calculate_accuracy(X_test, y_test)\n",
    "print(f'Accuracy on test set: {accuracy:.2f}%')"
   ]
  }
 ],
 "metadata": {
  "kernelspec": {
   "display_name": "Python 3",
   "language": "python",
   "name": "python3"
  },
  "language_info": {
   "codemirror_mode": {
    "name": "ipython",
    "version": 3
   },
   "file_extension": ".py",
   "mimetype": "text/x-python",
   "name": "python",
   "nbconvert_exporter": "python",
   "pygments_lexer": "ipython3",
   "version": "3.12.0"
  }
 },
 "nbformat": 4,
 "nbformat_minor": 2
}
